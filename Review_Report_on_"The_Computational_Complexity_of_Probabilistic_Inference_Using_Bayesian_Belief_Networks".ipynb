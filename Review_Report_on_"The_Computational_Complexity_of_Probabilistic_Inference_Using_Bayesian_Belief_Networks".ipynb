{
  "nbformat": 4,
  "nbformat_minor": 0,
  "metadata": {
    "colab": {
      "name": "Review Report on \"The Computational Complexity of Probabilistic Inference Using Bayesian Belief Networks\".ipynb",
      "version": "0.3.2",
      "provenance": [],
      "collapsed_sections": [],
      "toc_visible": true,
      "include_colab_link": true
    },
    "kernelspec": {
      "name": "python3",
      "display_name": "Python 3"
    }
  },
  "cells": [
    {
      "cell_type": "markdown",
      "metadata": {
        "id": "view-in-github",
        "colab_type": "text"
      },
      "source": [
        "<a href=\"https://colab.research.google.com/github/FANXINGMENG/UTS_ML2019_Assignment/blob/master/Review_Report_on_%22The_Computational_Complexity_of_Probabilistic_Inference_Using_Bayesian_Belief_Networks%22.ipynb\" target=\"_parent\"><img src=\"https://colab.research.google.com/assets/colab-badge.svg\" alt=\"Open In Colab\"/></a>"
      ]
    },
    {
      "cell_type": "markdown",
      "metadata": {
        "id": "ikZad8DUI8u1",
        "colab_type": "text"
      },
      "source": [
        "# Review Report on \"The Computational Complexity of Probabilistic Inference Using Bayesian Belief Networks\"\n",
        "\n",
        "\n",
        "\n",
        "\n"
      ]
    },
    {
      "cell_type": "markdown",
      "metadata": {
        "id": "lb0-Jt6SGdol",
        "colab_type": "text"
      },
      "source": [
        "## Content\n",
        "\n",
        "The paper first introduce the Bayesian belief network and probabilistic inference, then prove the probabilistic inference in multiply connected networks is a 'NP-hard' problem, by transforming a NP-complete problem '3-SAT 'problem to a Decision-problem version of Probabilistic Inference using belief networks, then proving the transformed problem is NP-hard.\n",
        "\n",
        "Bayesian belief network is a probabilistic graphical representation which can represent probabilistic relationships concisely. The belief network can consider only the known dependencies among all the variables thus can be used for a lot of expert systems such as medical diagnosis.\n",
        "\n",
        "When we build a belief network, each node in the network is only affected by other connected nodes in the up layer, so that the computing of the conditional probability for a specific node will be much fewer than before.\n",
        "\n",
        "Since belief networks provide more efficient method for representing probabilistic dependencies among a set of variables, a lot of researchers are exploring the use of belief networks in artificial intelligence. However, for some complex domains, large multiply connected networks are needed. Inferences using multiply connected networks containing uninstantiated variables appears to be much more computationally difficult.\n",
        "\n",
        "3SAT is a known NP-complete problem. This paper reduced the 3SAT problem to a Decision-problem version of Probabilistic Inference using Belief networks (PIBNETD), then using the construction and the definition of belief networks coming up to a conclusion, that any instance of 3SAT can be transformed to PIBNETD,  thus PIBNETD is NP-Hard. Because PIBNETD is both NP-hard and in NP, it is NP-complete. The transformation from the PIBNETD decision\n",
        "problem to the probabilistic inference problem, called simply PIBNET. PIBNET is a computational version of PIBNETD, so PIBNETD can be readily transformed to PIBNET under the specific condition, so PIBNET is NP-hard.\n",
        "\n",
        "After proving that probabilistic inference using belief networks is NP-hard, it seems unlikely that an exact algorithm can be developed to perform probabilistic inference efficiently over all classes of belief networks. This result suggests that research should be directed away from the search for a\n",
        "general, efficient probabilistic inference algorithm, and toward the design of efficient special-case, average-case, and approximation algorithms.\n"
      ]
    },
    {
      "cell_type": "markdown",
      "metadata": {
        "id": "tH4op4U0GePi",
        "colab_type": "text"
      },
      "source": [
        "## Innovation\n",
        "\n",
        "The main innovation of this paper is the successful proving process using a known problem '3SAT' and the transformation to prove that this known NP-complete problem can be reduced to the problem we discussed, thus it came with a conclusion that probabilistic inference using belief networks is NP-hard. \n",
        "\n",
        "Finding out if the problem belongs to P/NP/NPC/NPH problem will determine if we are able to find an exact algorithm which can solve or verify the problem in polynomial time. \n",
        "\n",
        "As been proved, probabilistic inference using certain restricted types of belief networks can be performed efficiently. However, in the real-world domains such as medicine or medical diagnosis, always need a large multiply connected network. For multiply connected networks containing uninstantiated variables, after it is proved to be a NP-hard problem, we would know a general, exact, efficient solution may not exist, therefore the following researchers should not spend much time on developing such an algorithm.\n",
        "\n",
        "In the discussion part of the paper, after proving the problem is NP-hard, the author also provided several algorithm might work and the possible solution to the future development in belief network as well, such like the Approximation algorithms using an inexact solution but set an error bounds for the accuracy, which may be the future solution and will greatly inspire the following researchers.  \n",
        "\n",
        "With the contribution of this paper, as suggested by the author, we should use different strategies to solve this kind problems in the future, besides seeking a general, exact algorithm, in attempting to achieve computationally tractable probabilistic inference in such complex domains, such like average-case, special-case, and approximation algorithms as the author mentioned. \n",
        "\n",
        "\n",
        "\n",
        "\n",
        "\n"
      ]
    },
    {
      "cell_type": "markdown",
      "metadata": {
        "id": "g2YIaTDdGenL",
        "colab_type": "text"
      },
      "source": [
        "## Technical Quality\n",
        "\n",
        "\n",
        "I think the quality of this article is high. The purpose of the paper is to prove this problem is NP-Hard. Based on the previous research, we have already got a definition about NP-Hard problem and several problems which have already been proved to be NP-complete problems. And the author used the previous works from others, chose the suitable research, made a complex conversion from a known NP-complete problem to a probabilistic inference using belief networks and successfully finished the work.\n",
        "\n",
        "In the proving process, there are different known NP-complete problems can be reduced to PIBNET. The author choose 3SAT to prove PIBNET being NP-hard which yields a very simple proof and demonstrates that PIBNET is NP-hard even for belief networks that are significantly restricted topologically. Meanwhile restricted versions of 3SAT have also been proved NP-complete, and these restrictions can be used to derive direct corresponding restrictions for probabilistic inference using belief networks. Thus, by using 3SAT to prove that PIBNET is NP-hard, the paper also derived additional complexity results on belief-network inference.\n",
        "\n",
        "Finally, the paper came out a conclusion that probabilistic inference using belief networks is NP-hard. Based on the conclusion, the following researchers would pay more attention on other direction which is the design of efficient special-case, average-case, and approximation algorithms. The paper has been cited for more than 2660 times according to google scholar.\n",
        "\n",
        "Above all, I think the quality of the paper is high."
      ]
    },
    {
      "cell_type": "markdown",
      "metadata": {
        "id": "ofLj6BPKGet4",
        "colab_type": "text"
      },
      "source": [
        "## Application and X-Factor\n",
        "\n",
        "\n",
        "In my opinion, the proposed technique mentioned by the paper is appropriate for the machine learning application domain. The theory in the paper is related to bayesian belief network and NP-hard problems, which are based on bayesian algorithm and time complexity of the algorithm. Bayesian algorithm is one of the most popular algorithms in this area, and time complexity is a essential factor in all the computer science domain. Therefore, the research work can not only be applied in this domain, but also be useful in other domains related to bayesian network.\n",
        "\n",
        "Under the conclusion of this paper, For the further developments of the research work, we can look for other applications to bayesian network base on the conclusion of this paper. And since the exact abduction in a network is NP-hard, we can focus on inexact or approximate reasoning and algorithm.\n",
        "\n",
        "During reading this paper, I found the P/NP/NPC problems are really interesting. Proving P = NP is one of the most popular unsolved problems even till now. Also since we cannot find an exact algorithm for the belief network, I am looking forward to finding out how other researchers develop other inexact, bounded solution to make it able to solve the real problem in the real world by using belief network such like the medical diagnose model right now. \n",
        "\n",
        "\n"
      ]
    },
    {
      "cell_type": "markdown",
      "metadata": {
        "id": "oYyI8GY0GeXX",
        "colab_type": "text"
      },
      "source": [
        "## Presentation\n",
        " \n",
        " The quality of the presentation of the paper is great. The structure of the paper is clear enough for me, as a beginner of this domain, to understand what the author wants to introduce in each section of the paper. The author first provided enough introduction for all the knowledge which would be used in the following part, including the definition of belief networks, probabilistic inference, 3SAT problems.\n",
        " One thing can be improved about presentation of the paper, in my opinion, is the quality of the figure. Only one figure was provided during the whole paper and it has been used for several times from the introduction to the proving process, which makes it a bit confused with several elements not introduced at the beginning but being explained in the middle of the paper."
      ]
    },
    {
      "cell_type": "markdown",
      "metadata": {
        "id": "YqkpItUoEE7-",
        "colab_type": "text"
      },
      "source": [
        "## References\n",
        "\n",
        "Judea,P., *Graphical Models for Probabilistic and Causal Reasoning*, Computer Science Department University of California, Los Angeles.\n",
        "\n",
        "Uebersax, J. 2004, *Genetic Counseling and Cancer Risk Modeling: An Application of Bayes Nets*. Ravenpack International, Marbella, Spain.\n",
        "\n",
        "Cooper,G.F., *The computational complexity of probabilistic inference using belief networks*, Rept. KSL-87-27, Medical Computer Science Group, Stanford University, Stanford, CA.\n",
        "\n",
        "Darwiche, A. 2009, 'Modeling and Reasoning with Bayesian Networks'. Cambridge University Press, New York."
      ]
    }
  ]
}